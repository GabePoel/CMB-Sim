{
 "cells": [
  {
   "cell_type": "code",
   "execution_count": 1,
   "metadata": {},
   "outputs": [],
   "source": [
    "import numpy as np\n",
    "import matplotlib.pyplot as plt\n",
    "import os\n",
    "from os import path\n",
    "from tqdm import tqdm\n",
    "from cmb_sim import *\n",
    "plt.rcParams.update({\n",
    "    \"text.usetex\": True,\n",
    "    \"font.family\": \"sans-serif\",\n",
    "    \"font.sans-serif\": [\"Helvetica\"]})\n",
    "plt.rcParams.update({\n",
    "    \"text.usetex\": True,\n",
    "    \"font.family\": \"serif\",\n",
    "    \"font.serif\": [\"Palatino\"],\n",
    "})"
   ]
  },
  {
   "cell_type": "code",
   "execution_count": 5,
   "metadata": {},
   "outputs": [],
   "source": [
    "def draw_universe(u, alpha=1, name=None, step=0, nofig=False, ax=None):\n",
    "    if not nofig:\n",
    "        if ax is None:\n",
    "            fig = plt.figure()\n",
    "            ax = fig.add_subplot(projection='3d')\n",
    "        if name is not None:\n",
    "            ax.clf()\n",
    "        ax.axes.set_xlim3d(left=0, right=1)\n",
    "        ax.axes.set_ylim3d(bottom=0, top=1) \n",
    "        ax.axes.set_zlim3d(bottom=0, top=1) \n",
    "    e_x = []\n",
    "    e_y = []\n",
    "    e_z = []\n",
    "    p_x = []\n",
    "    p_y = []\n",
    "    p_z = []\n",
    "    H_x = []\n",
    "    H_y = []\n",
    "    H_z = []\n",
    "    g_x = []\n",
    "    g_y = []\n",
    "    g_z = []\n",
    "    for p in u.particles:\n",
    "        if p.type == 'electron':\n",
    "            e_x.append(p.x[0])\n",
    "            e_y.append(p.x[1])\n",
    "            e_z.append(p.x[2])\n",
    "        elif p.type == 'proton':\n",
    "            p_x.append(p.x[0])\n",
    "            p_y.append(p.x[1])\n",
    "            p_z.append(p.x[2])\n",
    "        elif p.type == 'hydrogen':\n",
    "            H_x.append(p.x[0])\n",
    "            H_y.append(p.x[1])\n",
    "            H_z.append(p.x[2])\n",
    "        elif p.type == 'photon':\n",
    "            g_x.append(p.x[0])\n",
    "            g_y.append(p.x[1])\n",
    "            g_z.append(p.x[2])\n",
    "    for arr in [e_x, e_y, e_z, p_x, p_y, p_z, H_x, H_y, H_z, g_x, g_y, g_z]:\n",
    "        arr = np.array(arr) / u.size\n",
    "    if not nofig:\n",
    "        ax.scatter(e_x, e_y, e_z, color='g', alpha=alpha)\n",
    "        ax.scatter(p_x, p_y, p_z, color='b', alpha=alpha)\n",
    "        ax.scatter(H_x, H_y, H_z, color='r', alpha=alpha)\n",
    "        ax.scatter(g_x, g_y, g_z, color='purple', alpha=alpha)\n",
    "    if name is not None:\n",
    "        here = os.getcwd()\n",
    "        os.makedirs(path.join(here, name), exist_ok=True)\n",
    "        if not nofig:\n",
    "            plt.savefig(path.join(here, name, str(step) + '.png'), dpi=300)\n",
    "        else:\n",
    "            fp = path.join(here, name, str(step) + '.json')\n",
    "            with open(fp, 'w') as f:\n",
    "                json.dump(u.to_json(), f)"
   ]
  },
  {
   "cell_type": "code",
   "execution_count": 2,
   "metadata": {},
   "outputs": [],
   "source": [
    "u = Universe(1)\n",
    "u.add_electrons(50)\n",
    "u.add_protons(50)\n",
    "u.add_photons(10)\n",
    "# u.add_photons(1000)\n",
    "u.add_hydrogens(0)"
   ]
  },
  {
   "cell_type": "code",
   "execution_count": 3,
   "metadata": {},
   "outputs": [
    {
     "name": "stderr",
     "output_type": "stream",
     "text": [
      "100%|██████████| 300/300 [18:35<00:00,  3.72s/it]\n"
     ]
    }
   ],
   "source": [
    "# fig = plt.figure()\n",
    "# ax = fig.add_subplot(projection='3d')\n",
    "steps = 300\n",
    "time_step = 0.001\n",
    "photon_count = []\n",
    "electron_count = []\n",
    "proton_count = []\n",
    "hydrogen_count = []\n",
    "universe_size = []\n",
    "vx = []\n",
    "fx = []\n",
    "d = []\n",
    "for i in tqdm(range(steps)):\n",
    "    # print('---')\n",
    "    # print('step ' + str(i))\n",
    "    # print(u)\n",
    "    u.next_size = u.size * 1.005\n",
    "    u.evolve(time_step)\n",
    "    photon_count.append(u.photon_count())\n",
    "    electron_count.append(u.electron_count())\n",
    "    proton_count.append(u.proton_count())\n",
    "    hydrogen_count.append(u.hydrogen_count())\n",
    "    universe_size.append(u.size)\n",
    "    d.append(dist(u.particles[0], u.particles[1]))\n",
    "    vx.append(np.sqrt(np.sum(u.particles[0].v) ** 2))\n",
    "    fx.append(u.particles[0].f[0])\n",
    "# draw_universe(u, alpha=1, name=None, ax=ax)\n",
    "photon_count = np.array(photon_count)\n",
    "electron_count = np.array(electron_count)\n",
    "proton_count = np.array(proton_count)\n",
    "hydrogen_count = np.array(hydrogen_count)\n",
    "universe_size = np.array(universe_size)"
   ]
  },
  {
   "cell_type": "code",
   "execution_count": null,
   "metadata": {},
   "outputs": [],
   "source": [
    "base = np.zeros(len(photon_count))\n",
    "t = np.arange(len(photon_count)) * time_step\n",
    "plt.fill_between(t, photon_count + hydrogen_count + electron_count, photon_count + hydrogen_count + electron_count + proton_count, label='Protons', color='b')\n",
    "plt.fill_between(t, photon_count + hydrogen_count, photon_count + hydrogen_count + electron_count, label='Electrons', color='g')\n",
    "plt.fill_between(t, photon_count, photon_count + hydrogen_count, label='Hydrogen', color='r')\n",
    "plt.fill_between(t, base, photon_count, label='Photons', color='purple')\n",
    "plt.legend()"
   ]
  },
  {
   "cell_type": "code",
   "execution_count": null,
   "metadata": {},
   "outputs": [],
   "source": [
    "plt.plot(t * time_step, universe_size)"
   ]
  },
  {
   "cell_type": "code",
   "execution_count": 7,
   "metadata": {},
   "outputs": [],
   "source": [
    "%matplotlib qt\n",
    "\n",
    "cmb = get_cmb(u)\n",
    "# theta = cmb[0]\n",
    "# phi = cmb[1]\n",
    "\n",
    "phi_bg, theta_bg = np.mgrid[0.0:np.pi:100j, 0.0:2.0*np.pi:100j]\n",
    "x_bg = np.sin(phi_bg) * np.cos(theta_bg)\n",
    "y_bg = np.sin(phi_bg) * np.sin(theta_bg)\n",
    "z_bg = np.cos(phi_bg)\n",
    "\n",
    "# x = np.cos(theta) * np.sin(phi)\n",
    "# y = np.sin(theta) * np.sin(phi)\n",
    "# z = np.cos(phi)\n",
    "\n",
    "x, y, z = cmb\n",
    "\n",
    "fig = plt.figure()\n",
    "ax = fig.add_subplot(projection='3d')\n",
    "ax.plot_surface(x_bg, y_bg, z_bg,  rstride=1, cstride=1, color='c', alpha=0.3, linewidth=0)\n",
    "ax.scatter(x, y, z, color=\"r\", s=20)\n",
    "ax.set_xlim([-1,1])\n",
    "ax.set_ylim([-1,1])\n",
    "ax.set_zlim([-1,1])\n",
    "plt.tight_layout()\n",
    "plt.show()"
   ]
  },
  {
   "cell_type": "code",
   "execution_count": 6,
   "metadata": {},
   "outputs": [
    {
     "data": {
      "image/png": "[encoded data removed]",
      "text/plain": [
       "<Figure size 432x288 with 1 Axes>"
      ]
     },
     "metadata": {
      "needs_background": "light"
     },
     "output_type": "display_data"
    }
   ],
   "source": [
    "draw_universe(u)"
   ]
  },
  {
   "cell_type": "code",
   "execution_count": null,
   "metadata": {},
   "outputs": [],
   "source": []
  }
 ],
 "metadata": {
  "interpreter": {
   "hash": "767d51c1340bd893661ea55ea3124f6de3c7a262a8b4abca0554b478b1e2ff90"
  },
  "kernelspec": {
   "display_name": "Python 3.9.5 64-bit",
   "name": "python3"
  },
  "language_info": {
   "codemirror_mode": {
    "name": "ipython",
    "version": 3
   },
   "file_extension": ".py",
   "mimetype": "text/x-python",
   "name": "python",
   "nbconvert_exporter": "python",
   "pygments_lexer": "ipython3",
   "version": "3.10.1"
  },
  "orig_nbformat": 4
 },
 "nbformat": 4,
 "nbformat_minor": 2
}
